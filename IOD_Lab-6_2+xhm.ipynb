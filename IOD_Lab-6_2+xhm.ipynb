{
 "cells": [
  {
   "cell_type": "markdown",
   "metadata": {
    "colab_type": "text",
    "id": "Rgqv6G0FbusI"
   },
   "source": [
    "<div>\n",
    "<img src=https://www.institutedata.com/wp-content/uploads/2019/10/iod_h_tp_primary_c.svg width=\"300\">\n",
    "</div>"
   ]
  },
  {
   "cell_type": "markdown",
   "metadata": {
    "colab_type": "text",
    "id": "pAErEsStbusL"
   },
   "source": [
    "# Lab 6.2: K-Means bad cases\n",
    "\n",
    "INSTRUCTIONS:\n",
    "\n",
    "- Run the cells\n",
    "- Observe and understand the results\n",
    "- Answer the questions"
   ]
  },
  {
   "cell_type": "code",
   "execution_count": 1,
   "metadata": {
    "colab": {},
    "colab_type": "code",
    "id": "HtgC1QN4busP"
   },
   "outputs": [],
   "source": [
    "## Import Libraries\n",
    "\n",
    "import numpy as np\n",
    "import pandas as pd\n",
    "\n",
    "%matplotlib inline\n",
    "import matplotlib.pyplot as plt\n",
    "\n",
    "# from sklearn import datasets\n",
    "from sklearn.datasets import make_circles\n",
    "import seaborn as sbn"
   ]
  },
  {
   "cell_type": "code",
   "execution_count": 2,
   "metadata": {
    "colab": {},
    "colab_type": "code",
    "id": "9uWpcClqbusX"
   },
   "outputs": [],
   "source": [
    "## Create data points (circles)\n",
    "\n",
    "# Make Random Circles\n",
    "X1, _ = make_circles(n_samples = 400, factor = 0.3, noise = 0.05)"
   ]
  },
  {
   "cell_type": "code",
   "execution_count": 3,
   "metadata": {
    "colab": {},
    "colab_type": "code",
    "id": "2BUPRzX0busm"
   },
   "outputs": [],
   "source": [
    "## Convert data into a DataFrame\n",
    "\n",
    "# Declare the columns names\n",
    "columns = 'A B'.split()\n",
    "\n",
    "# Load the dataset as a pandas data frame\n",
    "X = pd.DataFrame(X1, columns = columns)"
   ]
  },
  {
   "cell_type": "code",
   "execution_count": 5,
   "metadata": {},
   "outputs": [
    {
     "data": {
      "text/html": [
       "<div>\n",
       "<style scoped>\n",
       "    .dataframe tbody tr th:only-of-type {\n",
       "        vertical-align: middle;\n",
       "    }\n",
       "\n",
       "    .dataframe tbody tr th {\n",
       "        vertical-align: top;\n",
       "    }\n",
       "\n",
       "    .dataframe thead th {\n",
       "        text-align: right;\n",
       "    }\n",
       "</style>\n",
       "<table border=\"1\" class=\"dataframe\">\n",
       "  <thead>\n",
       "    <tr style=\"text-align: right;\">\n",
       "      <th></th>\n",
       "      <th>A</th>\n",
       "      <th>B</th>\n",
       "    </tr>\n",
       "  </thead>\n",
       "  <tbody>\n",
       "    <tr>\n",
       "      <th>0</th>\n",
       "      <td>-0.209599</td>\n",
       "      <td>0.225418</td>\n",
       "    </tr>\n",
       "    <tr>\n",
       "      <th>1</th>\n",
       "      <td>0.995179</td>\n",
       "      <td>0.184528</td>\n",
       "    </tr>\n",
       "    <tr>\n",
       "      <th>2</th>\n",
       "      <td>-0.003683</td>\n",
       "      <td>0.293021</td>\n",
       "    </tr>\n",
       "    <tr>\n",
       "      <th>3</th>\n",
       "      <td>0.062283</td>\n",
       "      <td>0.380299</td>\n",
       "    </tr>\n",
       "    <tr>\n",
       "      <th>4</th>\n",
       "      <td>0.410780</td>\n",
       "      <td>-0.887926</td>\n",
       "    </tr>\n",
       "    <tr>\n",
       "      <th>...</th>\n",
       "      <td>...</td>\n",
       "      <td>...</td>\n",
       "    </tr>\n",
       "    <tr>\n",
       "      <th>395</th>\n",
       "      <td>0.582261</td>\n",
       "      <td>-0.805002</td>\n",
       "    </tr>\n",
       "    <tr>\n",
       "      <th>396</th>\n",
       "      <td>-0.366574</td>\n",
       "      <td>0.073536</td>\n",
       "    </tr>\n",
       "    <tr>\n",
       "      <th>397</th>\n",
       "      <td>-0.052720</td>\n",
       "      <td>-0.264553</td>\n",
       "    </tr>\n",
       "    <tr>\n",
       "      <th>398</th>\n",
       "      <td>-0.951357</td>\n",
       "      <td>0.211852</td>\n",
       "    </tr>\n",
       "    <tr>\n",
       "      <th>399</th>\n",
       "      <td>-0.249311</td>\n",
       "      <td>0.991126</td>\n",
       "    </tr>\n",
       "  </tbody>\n",
       "</table>\n",
       "<p>400 rows × 2 columns</p>\n",
       "</div>"
      ],
      "text/plain": [
       "            A         B\n",
       "0   -0.209599  0.225418\n",
       "1    0.995179  0.184528\n",
       "2   -0.003683  0.293021\n",
       "3    0.062283  0.380299\n",
       "4    0.410780 -0.887926\n",
       "..        ...       ...\n",
       "395  0.582261 -0.805002\n",
       "396 -0.366574  0.073536\n",
       "397 -0.052720 -0.264553\n",
       "398 -0.951357  0.211852\n",
       "399 -0.249311  0.991126\n",
       "\n",
       "[400 rows x 2 columns]"
      ]
     },
     "execution_count": 5,
     "metadata": {},
     "output_type": "execute_result"
    }
   ],
   "source": [
    "X"
   ]
  },
  {
   "cell_type": "code",
   "execution_count": 0,
   "metadata": {
    "colab": {
     "base_uri": "https://localhost:8080/",
     "height": 350
    },
    "colab_type": "code",
    "executionInfo": {
     "elapsed": 682,
     "status": "ok",
     "timestamp": 1557705648206,
     "user": {
      "displayName": "Ibrahim Faisal",
      "photoUrl": "https://lh3.googleusercontent.com/-67DMczu7rgM/AAAAAAAAAAI/AAAAAAAAAAc/6f5FCnBgxFs/s64/photo.jpg",
      "userId": "02685917636347920688"
     },
     "user_tz": -600
    },
    "id": "jJv-A0Ujbusu",
    "outputId": "d2d836e1-71de-4996-f745-170a812967e7"
   },
   "outputs": [
    {
     "name": "stdout",
     "output_type": "stream",
     "text": [
      "X is a <class 'pandas.core.frame.DataFrame'>\n",
      "X has 400 rows and 2 columns\n",
      "Basic Statistics about X__________________________________________________\n",
      "                A           B\n",
      "count  400.000000  400.000000\n",
      "mean    -0.000127   -0.002186\n",
      "std      0.524780    0.520336\n",
      "min     -1.093653   -1.044087\n",
      "25%     -0.286222   -0.284303\n",
      "50%      0.001867   -0.014196\n",
      "75%      0.295057    0.277434\n",
      "max      1.074682    1.047195\n",
      "\n",
      "Sample of X__________________________________________________\n",
      "          A         B\n",
      "0  0.744750 -0.721539\n",
      "1  1.018127 -0.050333\n",
      "2  0.991970  0.382308\n",
      "3  0.058825  0.325907\n",
      "4  0.715687  0.766104\n"
     ]
    }
   ],
   "source": [
    "## Check data\n",
    "\n",
    "# About X\n",
    "print('X is a %s' % type(X))\n",
    "print('X has %d rows and %d columns' % X.shape)\n",
    "print('Basic Statistics about X%s' % ('_'*50))\n",
    "print(X.describe())\n",
    "print('')\n",
    "print('Sample of X%s' % ('_'*50))\n",
    "print(X.head())"
   ]
  },
  {
   "cell_type": "code",
   "execution_count": 4,
   "metadata": {
    "colab": {
     "base_uri": "https://localhost:8080/",
     "height": 368
    },
    "colab_type": "code",
    "executionInfo": {
     "elapsed": 1134,
     "status": "ok",
     "timestamp": 1557705652983,
     "user": {
      "displayName": "Ibrahim Faisal",
      "photoUrl": "https://lh3.googleusercontent.com/-67DMczu7rgM/AAAAAAAAAAI/AAAAAAAAAAc/6f5FCnBgxFs/s64/photo.jpg",
      "userId": "02685917636347920688"
     },
     "user_tz": -600
    },
    "id": "PPZauMcpbusz",
    "outputId": "16f798dd-fd4b-4a4f-81d7-ae68f3c65592"
   },
   "outputs": [
    {
     "data": {
      "image/png": "[encoded data removed]",
      "text/plain": [
       "<Figure size 360x360 with 6 Axes>"
      ]
     },
     "metadata": {
      "needs_background": "light"
     },
     "output_type": "display_data"
    }
   ],
   "source": [
    "sbn.pairplot(X)\n",
    "plt.show()"
   ]
  },
  {
   "cell_type": "markdown",
   "metadata": {
    "colab_type": "text",
    "id": "S6jS4Gbabus9"
   },
   "source": [
    "### Question: What are other important things to know about the data? Comment on:\n",
    "- Types\n",
    "- Availability\n",
    "- Dispersion and Distribution\n",
    "\n",
    "### Question: Which features could/should be used to cluster the data points?"
   ]
  },
  {
   "cell_type": "code",
   "execution_count": 6,
   "metadata": {
    "colab": {},
    "colab_type": "code",
    "id": "ETUanTR3butA"
   },
   "outputs": [],
   "source": [
    "def print_centroids(centroids):\n",
    "    global step\n",
    "    if show_steps:\n",
    "        print('(Step) Step %d' % step)\n",
    "        for c in centroids:\n",
    "            print(', '.join(['%.3f' % f for f in c]))\n",
    "        step += 1"
   ]
  },
  {
   "cell_type": "code",
   "execution_count": 7,
   "metadata": {
    "colab": {},
    "colab_type": "code",
    "id": "QVzE11gebutE"
   },
   "outputs": [],
   "source": [
    "## Create some supporting functions\n",
    "\n",
    "# Create new centroids randomly for all the K clusters including all dimensions\n",
    "def create_centroids(K, features):\n",
    "    # start with No centroids\n",
    "    centroids = []\n",
    "    # need one centroid for each cluster\n",
    "    for i in range(K):\n",
    "        # it can be multi-dimensional\n",
    "        dimensions = []\n",
    "        for f in features:\n",
    "            # create a random number between the minimum and maximum of each feature\n",
    "            x = np.random.uniform(X[f].min(), X[f].max())\n",
    "            dimensions.append(x)\n",
    "        # add all dimensions for the centroids of each cluster\n",
    "        centroids.append(dimensions)\n",
    "\n",
    "    print_centroids(centroids)\n",
    "\n",
    "    return centroids"
   ]
  },
  {
   "cell_type": "code",
   "execution_count": 8,
   "metadata": {
    "colab": {},
    "colab_type": "code",
    "id": "r7ZB-B_2butJ"
   },
   "outputs": [],
   "source": [
    "# Identify the closest centroid for a given data point\n",
    "def closest_centroid(x, centroids):\n",
    "    distances = []\n",
    "    # convert x to a numpy.array; x contains all the features of a data point\n",
    "    p = np.array(x)\n",
    "    for c in centroids:\n",
    "        # convert c to a numpy.array; c contains the coordinates for all the features\n",
    "        q = np.array(c)\n",
    "        # calculate the Euclidean distance between data point `x` and centroid `c`\n",
    "        d = np.sqrt( np.square(p - q).sum() )\n",
    "        # add the distance for each centroid\n",
    "        distances.append(d)\n",
    "\n",
    "    # return the position (cluster) which has the smallest distance\n",
    "    return np.array(distances).argmin()"
   ]
  },
  {
   "cell_type": "code",
   "execution_count": 9,
   "metadata": {
    "colab": {},
    "colab_type": "code",
    "id": "Da81CrswbutO"
   },
   "outputs": [],
   "source": [
    "# recalculate all the centroids based on the mean of the members of each cluster\n",
    "def update_centroid(X, y, centroids):\n",
    "    c = []\n",
    "    # for each of the existing centroids\n",
    "    for i in range(len(centroids)):\n",
    "        # check if any object was assigned to a cluster\n",
    "        if X[y == i].shape[0]:\n",
    "            dimensions = []\n",
    "            # for all the features\n",
    "            for f in X.columns:\n",
    "                # calculate the mean\n",
    "                x = X[f][y == i].mean()\n",
    "                dimensions.append(x)\n",
    "            c.append(dimensions)\n",
    "        # if a cluster got no members\n",
    "        else:\n",
    "            # keep the previous coordinates\n",
    "            c.append(centroids[i])\n",
    "\n",
    "    print_centroids(c)\n",
    "\n",
    "    return c"
   ]
  },
  {
   "cell_type": "code",
   "execution_count": 10,
   "metadata": {
    "colab": {},
    "colab_type": "code",
    "id": "eTBJ8HUVbute"
   },
   "outputs": [],
   "source": [
    "# plot a chart of the data points and centroids either generic or identifying the clusters\n",
    "# NOTE: for visualisation purposes, only consider the first two features\n",
    "def plot_data(ax, X, y, centroids, show_clusters = True):\n",
    "    # unpack the coordinates of the centroids\n",
    "    a = [z[0] for z in centroids]\n",
    "    b = [z[1] for z in centroids]\n",
    "\n",
    "    # show distinct colours if asked to identify the clusters\n",
    "    if show_clusters:\n",
    "        colours = 'rgbykcm'\n",
    "        for i in range(len(centroids)):\n",
    "            ax.scatter(X[features[0]][y == i], X[features[1]][y == i], c = colours[i], label = 'Cluster %d' % i)\n",
    "    # show data points without cluster identification\n",
    "    else:\n",
    "        ax.scatter(X[features[0]], X[features[1]], label = 'Data Point')\n",
    "        \n",
    "    # label the features\n",
    "    ax.set_xlabel(features[0])\n",
    "    ax.set_ylabel(features[1])\n",
    "\n",
    "    # identify the centroids\n",
    "    for i in range(len(centroids)):\n",
    "        for s in range(step + 1):\n",
    "            e = [z[i][0] for z in centroids_list]\n",
    "            f = [z[i][1] for z in centroids_list]\n",
    "            ax.plot(e, f, c = 'k', marker = '+', linewidth = 1)\n",
    "\n",
    "        c = colours[i] if show_clusters else 'k'\n",
    "        ax.axvline(x = a[i], color = c, linestyle = '--', linewidth = 1)\n",
    "        ax.axhline(y = b[i], color = c, linestyle = '--', linewidth = 1)\n",
    "    ax.scatter(a, b, c = 'k', linewidths = 5, marker = 'x', label = 'Centroid')\n",
    "\n",
    "    # create a text to show the centroids' coordinates\n",
    "    t = '\\n'.join(['%d: (%.3f, %.3f)' % (i, a, b) for (i, (a, b)) in enumerate(centroids)])\n",
    "    ax.text(0.69, -1.1, t)\n",
    "\n",
    "    ax.legend()"
   ]
  },
  {
   "cell_type": "code",
   "execution_count": 11,
   "metadata": {
    "colab": {},
    "colab_type": "code",
    "id": "r6j_eRtqbuti"
   },
   "outputs": [],
   "source": [
    "## Flag intermediate output\n",
    "\n",
    "step = 0\n",
    "show_steps = True   # for testing/debugging\n",
    "# show_steps = False  # without showing steps"
   ]
  },
  {
   "cell_type": "code",
   "execution_count": 20,
   "metadata": {
    "colab": {
     "base_uri": "https://localhost:8080/",
     "height": 1600
    },
    "colab_type": "code",
    "executionInfo": {
     "elapsed": 2707,
     "status": "ok",
     "timestamp": 1557705706054,
     "user": {
      "displayName": "Ibrahim Faisal",
      "photoUrl": "https://lh3.googleusercontent.com/-67DMczu7rgM/AAAAAAAAAAI/AAAAAAAAAAc/6f5FCnBgxFs/s64/photo.jpg",
      "userId": "02685917636347920688"
     },
     "user_tz": -600
    },
    "id": "UmVex-4pbutn",
    "outputId": "c3c747c8-f4f0-41d3-d909-fea3b6432833",
    "scrolled": false
   },
   "outputs": [
    {
     "name": "stdout",
     "output_type": "stream",
     "text": [
      "(Step) Step 97\n",
      "0.141, 0.967\n",
      "-0.448, -0.924\n",
      "-0.234, 0.682\n",
      "(Step) Step 98\n",
      "0.652, 0.521\n",
      "-0.076, -0.523\n",
      "-0.167, 0.229\n",
      "(Step) Step 99\n",
      "0.710, 0.413\n",
      "-0.025, -0.523\n",
      "-0.239, 0.249\n",
      "(Step) Step 100\n",
      "0.654, 0.315\n",
      "0.003, -0.516\n",
      "-0.313, 0.280\n",
      "(Step) Step 101\n",
      "0.588, 0.251\n",
      "-0.006, -0.519\n",
      "-0.377, 0.301\n",
      "(Step) Step 102\n",
      "0.533, 0.234\n",
      "-0.018, -0.533\n",
      "-0.424, 0.300\n",
      "(Step) Step 103\n",
      "0.510, 0.232\n",
      "-0.021, -0.543\n",
      "-0.444, 0.291\n",
      "(Step) Step 104\n",
      "0.509, 0.228\n",
      "-0.021, -0.549\n",
      "-0.442, 0.288\n",
      "(Step) Step 105\n",
      "0.509, 0.228\n",
      "-0.020, -0.552\n",
      "-0.441, 0.285\n",
      "(Step) Step 106\n",
      "0.509, 0.228\n",
      "-0.020, -0.552\n",
      "-0.441, 0.285\n"
     ]
    },
    {
     "data": {
      "image/png": "[encoded data removed]",
      "text/plain": [
       "<Figure size 1296x576 with 2 Axes>"
      ]
     },
     "metadata": {
      "needs_background": "light"
     },
     "output_type": "display_data"
    }
   ],
   "source": [
    "## K_Means\n",
    "## Note that the comments match the outlined K-Means Algorithm in the presentation\n",
    "\n",
    "# 1. Define the number of clusters `K`\n",
    "K = 3\n",
    "\n",
    "# list the features to be used\n",
    "features = ['A', 'B']\n",
    "\n",
    "# 2. Select `K` cluster centres randomly\n",
    "centroids = create_centroids(K, features)\n",
    "centroids_list = [centroids]\n",
    "\n",
    "# plot the data points and initial centroids (the 'Before')\n",
    "fig, axes = plt.subplots(nrows = 1, ncols = 2, figsize = (18, 8))\n",
    "plot_data(axes[0], X[features], None, centroids, False)\n",
    "\n",
    "# repeat util makes no moves\n",
    "while True:\n",
    "    # 3. Calculate the distance between each data point and cluster centres\n",
    "    # 4. Assign the data point to the cluster whose distance from its centre is minimum\n",
    "    y = X[features].apply(lambda x: closest_centroid(x, centroids), axis = 1).values\n",
    "\n",
    "    # move the known assignment be the previous state, for post comparison\n",
    "    old_c = centroids.copy()\n",
    "\n",
    "    # 5. Recalculate all new cluster centres by averaging the objects of each cluster\n",
    "    centroids = update_centroid(X[features], y, centroids)\n",
    "    centroids_list.append(centroids)\n",
    "\n",
    "    # 6. Repeat steps 3 to 5 until the centroids do not change\n",
    "    if old_c == centroids:\n",
    "        break\n",
    "\n",
    "# plot the data points identified by cluster and final centroids (the 'After')\n",
    "plot_data(axes[1], X[features], y, centroids)\n",
    "plt.show()"
   ]
  },
  {
   "cell_type": "markdown",
   "metadata": {
    "colab_type": "text",
    "id": "Bb6nxFyabutq"
   },
   "source": [
    "### Question: What happens if the algorithm is run multiple times?\n",
    "### Question: What happens if `K` is changed?"
   ]
  },
  {
   "cell_type": "markdown",
   "metadata": {
    "colab_type": "text",
    "id": "IS5Tc4z9FoYy"
   },
   "source": [
    ">"
   ]
  },
  {
   "cell_type": "markdown",
   "metadata": {
    "colab_type": "text",
    "id": "mxI2We9OFpfs"
   },
   "source": [
    ">"
   ]
  },
  {
   "cell_type": "markdown",
   "metadata": {
    "colab_type": "text",
    "id": "81DoNxN1FqGN"
   },
   "source": [
    ">"
   ]
  },
  {
   "cell_type": "markdown",
   "metadata": {
    "colab_type": "text",
    "id": "RERADKgNFq9T"
   },
   "source": [
    "\n",
    "\n",
    "---\n",
    "\n",
    "\n",
    "\n",
    "---\n",
    "\n",
    "\n",
    "\n",
    "> > > > > > > > > © 2019 Institute of Data\n",
    "\n",
    "\n",
    "---\n",
    "\n",
    "\n",
    "\n",
    "---\n",
    "\n",
    "\n",
    "\n"
   ]
  }
 ],
 "metadata": {
  "colab": {
   "collapsed_sections": [],
   "name": "DSIA Lab-6_2-Answers.ipynb",
   "provenance": []
  },
  "kernelspec": {
   "display_name": "Python 3",
   "language": "python",
   "name": "python3"
  },
  "language_info": {
   "codemirror_mode": {
    "name": "ipython",
    "version": 3
   },
   "file_extension": ".py",
   "mimetype": "text/x-python",
   "name": "python",
   "nbconvert_exporter": "python",
   "pygments_lexer": "ipython3",
   "version": "3.8.5"
  }
 },
 "nbformat": 4,
 "nbformat_minor": 1
}
