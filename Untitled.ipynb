{
 "cells": [
  {
   "cell_type": "code",
   "execution_count": 1,
   "metadata": {},
   "outputs": [],
   "source": [
    "import pandas as pd\n",
    "import numpy as np\n",
    "import matplotlib.pyplot as plt\n",
    "import seaborn as sns\n",
    "\n",
    "%matplotlib inline"
   ]
  },
  {
   "cell_type": "code",
   "execution_count": 4,
   "metadata": {},
   "outputs": [
    {
     "ename": "ModuleNotFoundError",
     "evalue": "No module named 'votes'",
     "output_type": "error",
     "traceback": [
      "\u001b[1;31m---------------------------------------------------------------------------\u001b[0m",
      "\u001b[1;31mModuleNotFoundError\u001b[0m                       Traceback (most recent call last)",
      "\u001b[1;32m<ipython-input-4-572bb4efd91c>\u001b[0m in \u001b[0;36m<module>\u001b[1;34m\u001b[0m\n\u001b[0;32m      1\u001b[0m \u001b[1;32mimport\u001b[0m \u001b[0maltair\u001b[0m \u001b[1;32mas\u001b[0m \u001b[0malt\u001b[0m\u001b[1;33m\u001b[0m\u001b[1;33m\u001b[0m\u001b[0m\n\u001b[1;32m----> 2\u001b[1;33m \u001b[1;32mfrom\u001b[0m \u001b[0mvotes\u001b[0m \u001b[1;32mimport\u001b[0m \u001b[0mlong\u001b[0m \u001b[1;32mas\u001b[0m \u001b[0mdf\u001b[0m\u001b[1;33m\u001b[0m\u001b[1;33m\u001b[0m\u001b[0m\n\u001b[0m\u001b[0;32m      3\u001b[0m \u001b[1;33m\u001b[0m\u001b[0m\n\u001b[0;32m      4\u001b[0m cmap = {\n\u001b[0;32m      5\u001b[0m         \u001b[1;34m'Conservative'\u001b[0m\u001b[1;33m:\u001b[0m \u001b[1;34m'#0343df'\u001b[0m\u001b[1;33m,\u001b[0m\u001b[1;33m\u001b[0m\u001b[1;33m\u001b[0m\u001b[0m\n",
      "\u001b[1;31mModuleNotFoundError\u001b[0m: No module named 'votes'"
     ]
    }
   ],
   "source": [
    "import altair as alt\n",
    "from votes import long as df\n",
    "\n",
    "cmap = {\n",
    "        'Conservative': '#0343df',\n",
    "        'Labour': '#e50000',\n",
    "        'Liberal': '#ffff14',\n",
    "        'Others': '#929591',\n",
    "    }\n",
    "\n",
    "df['year'] = df['year'].astype(str)\n",
    "\n",
    "    # We're still assigning, e.g. 'party' to x, but now we've wrapped it \n",
    "    # in alt.X in order to specify its styling\n",
    "chart = alt.Chart(df).mark_bar().encode(\n",
    "        x=alt.X('party', title=None),\n",
    "        y='seats',\n",
    "        column=alt.Column('year', sort=list(df['year']), title=None),\n",
    "        color=alt.Color('party', scale=alt.Scale(domain=list(cmap.keys()), range=list(cmap.values())))\n",
    "    )\n",
    "\n",
    "chart.save('altair-elections.html')"
   ]
  },
  {
   "cell_type": "code",
   "execution_count": null,
   "metadata": {},
   "outputs": [],
   "source": []
  }
 ],
 "metadata": {
  "kernelspec": {
   "display_name": "Python 3",
   "language": "python",
   "name": "python3"
  },
  "language_info": {
   "codemirror_mode": {
    "name": "ipython",
    "version": 3
   },
   "file_extension": ".py",
   "mimetype": "text/x-python",
   "name": "python",
   "nbconvert_exporter": "python",
   "pygments_lexer": "ipython3",
   "version": "3.8.5"
  }
 },
 "nbformat": 4,
 "nbformat_minor": 4
}
