{
 "cells": [
  {
   "cell_type": "markdown",
   "metadata": {
    "colab_type": "text",
    "id": "7KeNKtNL2Ix-"
   },
   "source": [
    "<div>\n",
    "<img src=https://www.institutedata.com/wp-content/uploads/2019/10/iod_h_tp_primary_c.svg width=\"300\">\n",
    "</div>\n",
    "\n",
    "# Python - Lab 1 \n",
    "\n",
    "## Learning objectives\n",
    "\n",
    "This lab demonstrates examples of: \n",
    "\n",
    "1. Creating and manipulating lists\n",
    "2. For loops\n",
    "3. Importing modules and functions\n",
    "4. Creating dictonaries\n",
    "\n",
    "## Instructions:\n",
    "\n",
    "1. Replace ??? with the appropriate code\n",
    "2. Press Shift + Enter to execute cell\n",
    "\n"
   ]
  },
  {
   "cell_type": "code",
   "execution_count": 58,
   "metadata": {
    "colab": {},
    "colab_type": "code",
    "id": "NaRcNY1l2LbD"
   },
   "outputs": [],
   "source": [
    "# create a list of 10 student (use just first name)\n",
    "students = ['David', 'Matt', 'Jin', 'Hongmei', 'Nastaran', 'Sophia']"
   ]
  },
  {
   "cell_type": "code",
   "execution_count": 6,
   "metadata": {},
   "outputs": [],
   "source": [
    "student_list=students"
   ]
  },
  {
   "cell_type": "code",
   "execution_count": 60,
   "metadata": {},
   "outputs": [
    {
     "name": "stdout",
     "output_type": "stream",
     "text": [
      "['David', 'Matt', 'Jin', 'Hongmei', 'Nastaran', 'Sophia']\n",
      "['Sophia', 'Nastaran', 'Hongmei', 'Jin', 'Matt', 'David']\n"
     ]
    }
   ],
   "source": [
    "print(students)\n",
    "print(student_list)"
   ]
  },
  {
   "cell_type": "code",
   "execution_count": 61,
   "metadata": {},
   "outputs": [
    {
     "name": "stdout",
     "output_type": "stream",
     "text": [
      "index 001 * Sophia\n",
      "index 002 * Nastaran\n",
      "index 003 * Hongmei\n",
      "index 004 * Jin\n",
      "index 005 * Matt\n",
      "index 006 * David\n"
     ]
    }
   ],
   "source": [
    "# print the list of students\n",
    "# in the following format\n",
    "# Index 01 \t Alice\n",
    "# Index 02 \t Bob\n",
    "# Index 03 \t Pradeep\n",
    "for x, i in enumerate (student_list) :\n",
    "    print(f'index {x+1:03d} * {i}')"
   ]
  },
  {
   "cell_type": "code",
   "execution_count": 62,
   "metadata": {
    "colab": {},
    "colab_type": "code",
    "id": "LtbLA_T811kr"
   },
   "outputs": [
    {
     "name": "stdout",
     "output_type": "stream",
     "text": [
      "Index 01 * David\n",
      "Index 02 * Matt\n",
      "Index 03 * Jin\n",
      "Index 04 * Hongmei\n",
      "Index 05 * Nastaran\n",
      "Index 06 * Sophia\n"
     ]
    }
   ],
   "source": [
    "# print the list of students\n",
    "# in the following format\n",
    "# Index 01 \t Alice\n",
    "# Index 02 \t Bob\n",
    "# Index 03 \t Pradeep\n",
    "for x, i in enumerate(students):\n",
    "    print(f'Index 0{x+1} * {i}')"
   ]
  },
  {
   "cell_type": "code",
   "execution_count": 63,
   "metadata": {
    "colab": {},
    "colab_type": "code",
    "id": "lyMlOgoUZ2R4"
   },
   "outputs": [
    {
     "name": "stdout",
     "output_type": "stream",
     "text": [
      "['David', 'Matt', 'Jin', 'Hongmei', 'Nastaran', 'Sophia']\n",
      "['Sophia', 'Nastaran', 'Hongmei', 'Jin', 'Matt', 'David']\n"
     ]
    }
   ],
   "source": [
    "# Print the list\n",
    "print(students)\n",
    "print(student_list)"
   ]
  },
  {
   "cell_type": "code",
   "execution_count": 66,
   "metadata": {},
   "outputs": [
    {
     "name": "stdout",
     "output_type": "stream",
     "text": [
      "['Sophia', 'Nastaran', 'Hongmei', 'Jin', 'Matt', 'David']\n",
      "01 David\n",
      "02 Matt\n",
      "03 Jin\n",
      "04 Hongmei\n",
      "05 Nastaran\n",
      "06 Sophia\n"
     ]
    }
   ],
   "source": [
    "# print the list of students in reverse order one student in a line with its index\n",
    "student_list_copy = student_list\n",
    "print(student_list_copy)\n",
    "\n",
    "student_list_copy.reverse()\n",
    "for x,i in enumerate (student_list_copy):\n",
    "    print(f'{x+1:02d} {i}')\n",
    "\n",
    "\n"
   ]
  },
  {
   "cell_type": "code",
   "execution_count": 18,
   "metadata": {
    "colab": {},
    "colab_type": "code",
    "id": "OF5sj3CX1lHl"
   },
   "outputs": [
    {
     "name": "stdout",
     "output_type": "stream",
     "text": [
      "Sophia\n",
      "Nastaran\n",
      "Hongmei\n",
      "Jin\n",
      "Matt\n",
      "David\n"
     ]
    }
   ],
   "source": [
    "# print the list of students in reverse order one student in a line with its index\n",
    "students_copy = students\n",
    "students_copy.reverse()\n",
    "for i in students_copy:\n",
    "    print(i)\n",
    "    "
   ]
  },
  {
   "cell_type": "code",
   "execution_count": 1,
   "metadata": {},
   "outputs": [],
   "source": [
    "students = ['aston', 'joel', 'vidya', 'ashley', 'joseph', 'minh', 'uchenna', 'datalounge', 'jess', 'jason']\n"
   ]
  },
  {
   "cell_type": "code",
   "execution_count": 3,
   "metadata": {},
   "outputs": [
    {
     "name": "stdout",
     "output_type": "stream",
     "text": [
      "0 jason\n",
      "1 jess\n",
      "2 datalounge\n",
      "3 uchenna\n",
      "4 minh\n",
      "5 joseph\n",
      "6 ashley\n",
      "7 vidya\n",
      "8 joel\n",
      "9 aston\n"
     ]
    }
   ],
   "source": [
    "students_reversed = students.copy()\n",
    "students_reversed.reverse()\n",
    "for i, k in enumerate(students_reversed):\n",
    "    print(i, k)\n"
   ]
  },
  {
   "cell_type": "code",
   "execution_count": 68,
   "metadata": {},
   "outputs": [
    {
     "name": "stdout",
     "output_type": "stream",
     "text": [
      "['David', 'Nastaran', 'Sophia']\n"
     ]
    }
   ],
   "source": [
    "# print the student list in random order\n",
    "# hint look up the function random.sample\n",
    "import random\n",
    "random_student_list = random.sample(student_list, k=3)\n",
    "print(random_student_list)\n"
   ]
  },
  {
   "cell_type": "code",
   "execution_count": 22,
   "metadata": {
    "colab": {},
    "colab_type": "code",
    "id": "eAdtim4G1pyV"
   },
   "outputs": [
    {
     "name": "stdout",
     "output_type": "stream",
     "text": [
      "['David', 'Nastaran']\n"
     ]
    }
   ],
   "source": [
    "# print the student list in random order\n",
    "# hint look up the function random.sample\n",
    "import random\n",
    "random_students = random.sample(students, k=2)\n",
    "print(random_students)"
   ]
  },
  {
   "cell_type": "code",
   "execution_count": 32,
   "metadata": {
    "colab": {},
    "colab_type": "code",
    "id": "sfKkL5dt1tqG"
   },
   "outputs": [
    {
     "name": "stdout",
     "output_type": "stream",
     "text": [
      "Sophia 87\n",
      "Nastaran 45\n",
      "Matt 66\n",
      "Jin 64\n",
      "Hongmei 76\n",
      "David 90\n"
     ]
    }
   ],
   "source": [
    "# list students in order of their exam marks in the following list\n",
    "marks = [87,45,76,64,66,90]\n",
    "student_marks = dict(zip(students, marks))\n",
    "for i in sorted(student_marks, key=student_marks.get, reverse=True):\n",
    "    print(i, student_marks[i])"
   ]
  },
  {
   "cell_type": "code",
   "execution_count": 70,
   "metadata": {},
   "outputs": [
    {
     "name": "stdout",
     "output_type": "stream",
     "text": [
      "{'David': 87, 'Matt': 45, 'Jin': 76, 'Hongmei': 64, 'Nastaran': 66, 'Sophia': 90}\n"
     ]
    }
   ],
   "source": [
    "xie_marks = [87,45,76,64,66,90]\n",
    "xie_student_marks = dict(zip(student_list, xie_marks))\n",
    "print(xie_student_marks)"
   ]
  },
  {
   "cell_type": "markdown",
   "metadata": {},
   "source": [
    "######sort out dictionary "
   ]
  },
  {
   "cell_type": "code",
   "execution_count": 85,
   "metadata": {},
   "outputs": [
    {
     "name": "stdout",
     "output_type": "stream",
     "text": [
      "Matt 45\n",
      "Hongmei 64\n",
      "Nastaran 66\n",
      "Jin 76\n",
      "David 87\n",
      "Sophia 90\n"
     ]
    }
   ],
   "source": [
    "###how to sort out the dict\n",
    "for i in sorted(xie_student_marks,key=xie_student_marks.get,reverse = False):\n",
    "    print(i,xie_student_marks[i])\n",
    "\n",
    "\n",
    "\n"
   ]
  },
  {
   "cell_type": "code",
   "execution_count": 86,
   "metadata": {},
   "outputs": [
    {
     "data": {
      "text/plain": [
       "{'David': 87,\n",
       " 'Matt': 45,\n",
       " 'Jin': 76,\n",
       " 'Hongmei': 64,\n",
       " 'Nastaran': 66,\n",
       " 'Sophia': 90}"
      ]
     },
     "execution_count": 86,
     "metadata": {},
     "output_type": "execute_result"
    }
   ],
   "source": [
    "xie_student_marks"
   ]
  },
  {
   "cell_type": "code",
   "execution_count": 79,
   "metadata": {},
   "outputs": [],
   "source": [
    "marks = [87,45,76,64,66,90]\n",
    "student_marks = dict(zip(students, marks))"
   ]
  },
  {
   "cell_type": "code",
   "execution_count": 80,
   "metadata": {},
   "outputs": [
    {
     "name": "stdout",
     "output_type": "stream",
     "text": [
      "{'David': 87, 'Matt': 45, 'Jin': 76, 'Hongmei': 64, 'Nastaran': 66, 'Sophia': 90}\n"
     ]
    }
   ],
   "source": [
    "print(student_marks)"
   ]
  },
  {
   "cell_type": "code",
   "execution_count": 81,
   "metadata": {},
   "outputs": [],
   "source": [
    "marks = [87,45,76,64,66,90,55,73,69,75]\n",
    "studentsAndMarks = dict(zip(students, marks))"
   ]
  },
  {
   "cell_type": "code",
   "execution_count": 83,
   "metadata": {},
   "outputs": [
    {
     "name": "stdout",
     "output_type": "stream",
     "text": [
      "Sophia 90\n",
      "David 87\n",
      "Jin 76\n",
      "Nastaran 66\n",
      "Hongmei 64\n",
      "Matt 45\n"
     ]
    }
   ],
   "source": [
    "for i in sorted(student_marks, key=student_marks.get, reverse=True):\n",
    "    print(i,student_marks[i])"
   ]
  },
  {
   "cell_type": "code",
   "execution_count": null,
   "metadata": {},
   "outputs": [],
   "source": [
    "for i in sorted(studentsAndMarks, key=studentsAndMarks.get, reverse=True):\n",
    "    print(i, studentsAndMarks[i])"
   ]
  },
  {
   "cell_type": "code",
   "execution_count": 17,
   "metadata": {},
   "outputs": [
    {
     "data": {
      "text/plain": [
       "{'aston': 87,\n",
       " 'joel': 45,\n",
       " 'vidya': 76,\n",
       " 'ashley': 64,\n",
       " 'joseph': 66,\n",
       " 'minh': 90,\n",
       " 'uchenna': 55,\n",
       " 'datalounge': 73,\n",
       " 'jess': 69,\n",
       " 'jason': 75}"
      ]
     },
     "execution_count": 17,
     "metadata": {},
     "output_type": "execute_result"
    }
   ],
   "source": [
    "studentsAndMarks"
   ]
  },
  {
   "cell_type": "code",
   "execution_count": 37,
   "metadata": {},
   "outputs": [
    {
     "name": "stdout",
     "output_type": "stream",
     "text": [
      "minh 90\n",
      "aston 87\n",
      "vidya 76\n",
      "jason 75\n",
      "datalounge 73\n",
      "jess 69\n",
      "joseph 66\n",
      "ashley 64\n",
      "uchenna 55\n",
      "joel 45\n"
     ]
    }
   ],
   "source": [
    "for i in sorted(studentsAndMarks, key=studentsAndMarks.get, reverse=True):\n",
    "    print(i, studentsAndMarks[i])"
   ]
  },
  {
   "cell_type": "code",
   "execution_count": 32,
   "metadata": {},
   "outputs": [
    {
     "data": {
      "text/plain": [
       "<function dict.get(key, default=None, /)>"
      ]
     },
     "execution_count": 32,
     "metadata": {},
     "output_type": "execute_result"
    }
   ],
   "source": [
    "key =studentsAndMarks.get\n"
   ]
  },
  {
   "cell_type": "code",
   "execution_count": 87,
   "metadata": {
    "colab": {},
    "colab_type": "code",
    "id": "9d9QrXRo182c"
   },
   "outputs": [
    {
     "name": "stdout",
     "output_type": "stream",
     "text": [
      "Students and their marks: \n",
      " {'David': 87, 'Matt': 45, 'Jin': 76, 'Hongmei': 64, 'Nastaran': 66, 'Sophia': 90}\n",
      "Sophia    :90\n",
      "David     :87\n",
      "Jin       :76\n",
      "Nastaran  :66\n",
      "Hongmei   :64\n",
      "Matt      :45\n"
     ]
    }
   ],
   "source": [
    "marks = [87,45,76,64,66,90,55,73,69,75]\n",
    "studentsAndMarks = dict(zip(students, marks))\n",
    "print(f\"Students and their marks: \\n {studentsAndMarks}\")\n",
    "for student in sorted(studentsAndMarks, key=studentsAndMarks.get, reverse=True ):\n",
    "  print(f\"{student:10s}:{studentsAndMarks[student]}\")"
   ]
  },
  {
   "cell_type": "code",
   "execution_count": null,
   "metadata": {},
   "outputs": [],
   "source": []
  }
 ],
 "metadata": {
  "colab": {
   "collapsed_sections": [],
   "name": "Lab01.ipynb",
   "provenance": []
  },
  "kernelspec": {
   "display_name": "Python 3",
   "language": "python",
   "name": "python3"
  },
  "language_info": {
   "codemirror_mode": {
    "name": "ipython",
    "version": 3
   },
   "file_extension": ".py",
   "mimetype": "text/x-python",
   "name": "python",
   "nbconvert_exporter": "python",
   "pygments_lexer": "ipython3",
   "version": "3.8.5"
  }
 },
 "nbformat": 4,
 "nbformat_minor": 1
}
