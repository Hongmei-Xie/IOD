{
 "cells": [
  {
   "cell_type": "markdown",
   "metadata": {
    "colab_type": "text",
    "id": "Owk-_RSmVbQc"
   },
   "source": [
    "<div>\n",
    "<img src=https://www.institutedata.com/wp-content/uploads/2019/10/iod_h_tp_primary_c.svg width=\"300\">\n",
    "</div>"
   ]
  },
  {
   "cell_type": "markdown",
   "metadata": {
    "colab_type": "text",
    "id": "8Bf5LD7ZVbQd"
   },
   "source": [
    "# Lab 3.2.2 "
   ]
  },
  {
   "cell_type": "markdown",
   "metadata": {
    "colab_type": "text",
    "id": "8NTE-h8JVbQe"
   },
   "source": [
    "## Statistical Proof"
   ]
  },
  {
   "cell_type": "markdown",
   "metadata": {
    "colab_type": "text",
    "id": "dVaASAlxVbQf"
   },
   "source": [
    "### Part 1: Student's t-Test\n",
    "\n",
    "The *t*-test is probably the most used statistical test. It measures the likelihood that a sample belongs to a given distribution, and incorporates a correction for the finite size of the sample.\n",
    "\n",
    "#### Using the t-test to compare two means\n",
    "\n",
    "Here, suppose we have two sets of measurements and we want to know if they both came from the same distribution.\n",
    "\n",
    "For example, in [this](https://archive.ics.uci.edu/ml/machine-learning-databases/housing/housing.data) dataset these could be age of house in one group and median value of house in another group, and we are testing the null hypothesis that there is no difference between the two groups.\n",
    "\n",
    "#### Collect Data\n",
    "\n",
    "You can find the original data [here](https://archive.ics.uci.edu/ml/machine-learning-databases/housing/housing.data).\n",
    "\n",
    "Data dictionary is available [here](https://www.cs.toronto.edu/~delve/data/boston/bostonDetail.html)."
   ]
  },
  {
   "cell_type": "code",
   "execution_count": 1,
   "metadata": {
    "colab": {},
    "colab_type": "code",
    "id": "K1gDvR8WVbQf"
   },
   "outputs": [],
   "source": [
    "import pandas as pd\n",
    "import numpy as np\n",
    "import math\n",
    "import seaborn as sns\n",
    "import pandas as pd\n",
    "\n",
    "from scipy import stats\n",
    "from matplotlib import pyplot as plt\n",
    "\n",
    "%matplotlib inline"
   ]
  },
  {
   "cell_type": "code",
   "execution_count": 128,
   "metadata": {
    "colab": {},
    "colab_type": "code",
    "id": "tpDR7frKVbQi"
   },
   "outputs": [],
   "source": [
    "names = [\"CRIM\", \"ZN\", \"INDUS\", \"CHAS\", \"NOX\", \"RM\", \"AGE\", \"DIS\", \"RAD\", \"TAX\", \"PTRATIO\", \"B\", \"LSTAT\", \"MEDV\"]\n",
    "data = pd.read_csv(\"housing.data\", header=None, names=names, delim_whitespace=True)"
   ]
  },
  {
   "cell_type": "code",
   "execution_count": 3,
   "metadata": {
    "colab": {},
    "colab_type": "code",
    "id": "ySJiFaU2VbQk"
   },
   "outputs": [
    {
     "data": {
      "text/html": [
       "<div>\n",
       "<style scoped>\n",
       "    .dataframe tbody tr th:only-of-type {\n",
       "        vertical-align: middle;\n",
       "    }\n",
       "\n",
       "    .dataframe tbody tr th {\n",
       "        vertical-align: top;\n",
       "    }\n",
       "\n",
       "    .dataframe thead th {\n",
       "        text-align: right;\n",
       "    }\n",
       "</style>\n",
       "<table border=\"1\" class=\"dataframe\">\n",
       "  <thead>\n",
       "    <tr style=\"text-align: right;\">\n",
       "      <th></th>\n",
       "      <th>CRIM</th>\n",
       "      <th>ZN</th>\n",
       "      <th>INDUS</th>\n",
       "      <th>CHAS</th>\n",
       "      <th>NOX</th>\n",
       "      <th>RM</th>\n",
       "      <th>AGE</th>\n",
       "      <th>DIS</th>\n",
       "      <th>RAD</th>\n",
       "      <th>TAX</th>\n",
       "      <th>PTRATIO</th>\n",
       "      <th>B</th>\n",
       "      <th>LSTAT</th>\n",
       "      <th>MEDV</th>\n",
       "    </tr>\n",
       "  </thead>\n",
       "  <tbody>\n",
       "    <tr>\n",
       "      <th>0</th>\n",
       "      <td>0.00632</td>\n",
       "      <td>18.0</td>\n",
       "      <td>2.31</td>\n",
       "      <td>0</td>\n",
       "      <td>0.538</td>\n",
       "      <td>6.575</td>\n",
       "      <td>65.2</td>\n",
       "      <td>4.0900</td>\n",
       "      <td>1</td>\n",
       "      <td>296.0</td>\n",
       "      <td>15.3</td>\n",
       "      <td>396.90</td>\n",
       "      <td>4.98</td>\n",
       "      <td>24.0</td>\n",
       "    </tr>\n",
       "    <tr>\n",
       "      <th>1</th>\n",
       "      <td>0.02731</td>\n",
       "      <td>0.0</td>\n",
       "      <td>7.07</td>\n",
       "      <td>0</td>\n",
       "      <td>0.469</td>\n",
       "      <td>6.421</td>\n",
       "      <td>78.9</td>\n",
       "      <td>4.9671</td>\n",
       "      <td>2</td>\n",
       "      <td>242.0</td>\n",
       "      <td>17.8</td>\n",
       "      <td>396.90</td>\n",
       "      <td>9.14</td>\n",
       "      <td>21.6</td>\n",
       "    </tr>\n",
       "    <tr>\n",
       "      <th>2</th>\n",
       "      <td>0.02729</td>\n",
       "      <td>0.0</td>\n",
       "      <td>7.07</td>\n",
       "      <td>0</td>\n",
       "      <td>0.469</td>\n",
       "      <td>7.185</td>\n",
       "      <td>61.1</td>\n",
       "      <td>4.9671</td>\n",
       "      <td>2</td>\n",
       "      <td>242.0</td>\n",
       "      <td>17.8</td>\n",
       "      <td>392.83</td>\n",
       "      <td>4.03</td>\n",
       "      <td>34.7</td>\n",
       "    </tr>\n",
       "    <tr>\n",
       "      <th>3</th>\n",
       "      <td>0.03237</td>\n",
       "      <td>0.0</td>\n",
       "      <td>2.18</td>\n",
       "      <td>0</td>\n",
       "      <td>0.458</td>\n",
       "      <td>6.998</td>\n",
       "      <td>45.8</td>\n",
       "      <td>6.0622</td>\n",
       "      <td>3</td>\n",
       "      <td>222.0</td>\n",
       "      <td>18.7</td>\n",
       "      <td>394.63</td>\n",
       "      <td>2.94</td>\n",
       "      <td>33.4</td>\n",
       "    </tr>\n",
       "    <tr>\n",
       "      <th>4</th>\n",
       "      <td>0.06905</td>\n",
       "      <td>0.0</td>\n",
       "      <td>2.18</td>\n",
       "      <td>0</td>\n",
       "      <td>0.458</td>\n",
       "      <td>7.147</td>\n",
       "      <td>54.2</td>\n",
       "      <td>6.0622</td>\n",
       "      <td>3</td>\n",
       "      <td>222.0</td>\n",
       "      <td>18.7</td>\n",
       "      <td>396.90</td>\n",
       "      <td>5.33</td>\n",
       "      <td>36.2</td>\n",
       "    </tr>\n",
       "  </tbody>\n",
       "</table>\n",
       "</div>"
      ],
      "text/plain": [
       "      CRIM    ZN  INDUS  CHAS    NOX     RM   AGE     DIS  RAD    TAX  \\\n",
       "0  0.00632  18.0   2.31     0  0.538  6.575  65.2  4.0900    1  296.0   \n",
       "1  0.02731   0.0   7.07     0  0.469  6.421  78.9  4.9671    2  242.0   \n",
       "2  0.02729   0.0   7.07     0  0.469  7.185  61.1  4.9671    2  242.0   \n",
       "3  0.03237   0.0   2.18     0  0.458  6.998  45.8  6.0622    3  222.0   \n",
       "4  0.06905   0.0   2.18     0  0.458  7.147  54.2  6.0622    3  222.0   \n",
       "\n",
       "   PTRATIO       B  LSTAT  MEDV  \n",
       "0     15.3  396.90   4.98  24.0  \n",
       "1     17.8  396.90   9.14  21.6  \n",
       "2     17.8  392.83   4.03  34.7  \n",
       "3     18.7  394.63   2.94  33.4  \n",
       "4     18.7  396.90   5.33  36.2  "
      ]
     },
     "execution_count": 3,
     "metadata": {},
     "output_type": "execute_result"
    }
   ],
   "source": [
    "# Head\n",
    "data.head()"
   ]
  },
  {
   "cell_type": "code",
   "execution_count": 129,
   "metadata": {
    "colab": {},
    "colab_type": "code",
    "id": "d0scc4_kVbQm"
   },
   "outputs": [
    {
     "data": {
      "text/plain": [
       "(506, 14)"
      ]
     },
     "execution_count": 129,
     "metadata": {},
     "output_type": "execute_result"
    }
   ],
   "source": [
    "# Shape\n",
    "data.shape"
   ]
  },
  {
   "cell_type": "markdown",
   "metadata": {
    "colab_type": "text",
    "id": "nuyPT527VbQo"
   },
   "source": [
    "##### 1. Plot Histogram of `RM`"
   ]
  },
  {
   "cell_type": "code",
   "execution_count": 12,
   "metadata": {
    "colab": {},
    "colab_type": "code",
    "id": "13SA_biyVbQp"
   },
   "outputs": [
    {
     "data": {
      "image/png": "[encoded data removed]",
      "text/plain": [
       "<Figure size 432x288 with 1 Axes>"
      ]
     },
     "metadata": {
      "needs_background": "light"
     },
     "output_type": "display_data"
    }
   ],
   "source": [
    "#  ANSWER\n",
    "\n",
    "num_bins = 10\n",
    "n,bins,patches=plt.hist(data.RM,num_bins,facecolor='#A0D0D0',alpha=1,edgecolor='black',\n",
    "           linewidth=2,align=\"right\")\n",
    "#plt.xticks(x,rotation=45,fontsize=12)\n",
    "plt.xticks(rotation=45,fontsize=12)\n",
    "plt.ylabel('Count',fontsize=12)\n",
    "plt.title('Plot Histogram of RM',fontsize=14)\n",
    "plt.show()\n"
   ]
  },
  {
   "cell_type": "markdown",
   "metadata": {
    "colab_type": "text",
    "id": "dhLlLDPYVbQr"
   },
   "source": [
    "##### 2. Plot Histogram of `MEDV`"
   ]
  },
  {
   "cell_type": "code",
   "execution_count": 14,
   "metadata": {
    "colab": {},
    "colab_type": "code",
    "id": "kgDOrdZGVbQs"
   },
   "outputs": [
    {
     "data": {
      "image/png": "[encoded data removed]",
      "text/plain": [
       "<Figure size 432x288 with 1 Axes>"
      ]
     },
     "metadata": {
      "needs_background": "light"
     },
     "output_type": "display_data"
    }
   ],
   "source": [
    "# ANSWER\n",
    "num_bins = 10\n",
    "n,bins,patches=plt.hist(data.MEDV,num_bins,facecolor='#20639B',alpha=1,edgecolor='black',\n",
    "           linewidth=2,align=\"right\")\n",
    "#plt.xticks(x,rotation=45,fontsize=12)\n",
    "plt.xticks(rotation=45,fontsize=12)\n",
    "plt.ylabel('Count',fontsize=12)\n",
    "plt.title('Plot Histogram of MEDV',fontsize=14)\n",
    "plt.show()"
   ]
  },
  {
   "cell_type": "markdown",
   "metadata": {
    "colab_type": "text",
    "id": "4Gt-bOwoVbQu"
   },
   "source": [
    "##### 3.A Draw Scatter Plot of `RM` & `MEDV`"
   ]
  },
  {
   "cell_type": "code",
   "execution_count": 17,
   "metadata": {
    "colab": {},
    "colab_type": "code",
    "id": "5biDWDUcVbQu"
   },
   "outputs": [
    {
     "data": {
      "image/png": "[encoded data removed]",
      "text/plain": [
       "<Figure size 432x288 with 1 Axes>"
      ]
     },
     "metadata": {
      "needs_background": "light"
     },
     "output_type": "display_data"
    }
   ],
   "source": [
    "# ANSWER\n",
    "plt.scatter(data.RM, data.MEDV)\n",
    "plt.xticks(rotation=45,fontsize=12)\n",
    "plt.ylabel('MEDV',fontsize=12)\n",
    "plt.xlabel('RM',fontsize=12)\n",
    "plt.title('Scatter Plot of RM & MEDV',fontsize=14)\n",
    "plt.show()"
   ]
  },
  {
   "cell_type": "markdown",
   "metadata": {
    "colab_type": "text",
    "id": "AtenHV2AVbQw"
   },
   "source": [
    "##### 3.B Is there any trend? State your observation."
   ]
  },
  {
   "cell_type": "markdown",
   "metadata": {
    "colab_type": "text",
    "id": "B1Nsn8LVVbQx"
   },
   "source": [
    "**ANSWER:**: ..."
   ]
  },
  {
   "cell_type": "markdown",
   "metadata": {
    "colab_type": "text",
    "id": "y03aU6p5VbQy"
   },
   "source": [
    "We'll be using following steps:\n",
    "\n",
    "- Define hypothesis\n",
    "- Set alpha (Let alpha = 0.05)\n",
    "- Calculate point estimate\n",
    "- Calculate test statistic\n",
    "- Find the p-value\n",
    "- Interpret results"
   ]
  },
  {
   "cell_type": "markdown",
   "metadata": {
    "colab_type": "text",
    "id": "vOUCadVJVbQy"
   },
   "source": [
    "##### 4. Define Hypothesis\n",
    "\n",
    "Let's assume if `RM` of house is more than 6, they are large house. Other houses are small. Price of houses increases when the `RM` increases.\n",
    "\n",
    "**ANSWER:**\n",
    "\n",
    "    H0: There is no difference between distribution of `Large House` & `Small House`\n",
    "    H1: There is difference between distribution of `Large House` & `Small House`\n",
    "    \n",
    "**[Note]** _If you want you can explore the dataset and define different hypothesis._"
   ]
  },
  {
   "cell_type": "markdown",
   "metadata": {
    "colab_type": "text",
    "id": "s-enrQ2SVbQz"
   },
   "source": [
    "##### 5. Set alpha (Let alpha = 0.05)"
   ]
  },
  {
   "cell_type": "markdown",
   "metadata": {
    "colab_type": "text",
    "id": "hHliQn5zVbQ0"
   },
   "source": [
    "First, we should specify our criterion for statistical significance. Traditionally, we allow for no more than a 1-in-20 chance of a spurious rejection of the null hypothesis:"
   ]
  },
  {
   "cell_type": "code",
   "execution_count": 0,
   "metadata": {
    "colab": {},
    "colab_type": "code",
    "id": "a8aZM8buVbQ0"
   },
   "outputs": [],
   "source": [
    "# ANSWER\n",
    "alpha = 0.05"
   ]
  },
  {
   "cell_type": "markdown",
   "metadata": {
    "colab_type": "text",
    "id": "tQUl-zrRVbQ2"
   },
   "source": [
    "##### 6. Set Data\n",
    "\n",
    "Now, let's create two sets of data \n",
    "- Large House: House which have more than 6 rooms.\n",
    "- Small House: House which have less than 6 rooms.\n",
    "\n",
    "Take sample of 100 house in each dataste."
   ]
  },
  {
   "cell_type": "code",
   "execution_count": 131,
   "metadata": {
    "colab": {},
    "colab_type": "code",
    "id": "AX-ycxPFVbQ3"
   },
   "outputs": [
    {
     "name": "stdout",
     "output_type": "stream",
     "text": [
      "(173, 14)\n",
      "(333, 14)\n",
      "(0, 14)\n"
     ]
    }
   ],
   "source": [
    "# ANSWER\n",
    "LH =data.loc[data['RM']> 6]\n",
    "SH = data.loc[data['RM']<6]\n",
    "H=data.loc[data['RM']==6]\n",
    "print(SH.shape)\n",
    "print(LH.shape)\n",
    "print(H.shape)\n",
    "\n"
   ]
  },
  {
   "cell_type": "markdown",
   "metadata": {
    "colab_type": "text",
    "id": "uyXzqCI3VbQ5"
   },
   "source": [
    "##### 6.A [BONUS] Build histogram for both `Large House` & `Small House`"
   ]
  },
  {
   "cell_type": "code",
   "execution_count": 142,
   "metadata": {},
   "outputs": [],
   "source": [
    "# https://thelastdev.com/exploratory-data-analysis-with-pandas/"
   ]
  },
  {
   "cell_type": "code",
   "execution_count": 132,
   "metadata": {
    "colab": {},
    "colab_type": "code",
    "id": "USRdEfwzVbQ5"
   },
   "outputs": [
    {
     "data": {
      "image/png": "[encoded data removed]",
      "text/plain": [
       "<Figure size 432x288 with 1 Axes>"
      ]
     },
     "metadata": {
      "needs_background": "light"
     },
     "output_type": "display_data"
    }
   ],
   "source": [
    "# ANSWER\n",
    "# ANSWER\n",
    "plt.figure()\n",
    "bins = 10\n",
    "plt.hist(SH.MEDV, bins, alpha=0.5, label='Small')\n",
    "plt.hist(LH.MEDV, bins, alpha=0.5, label='Large')\n",
    "plt.legend(loc='upper right')\n",
    "\n",
    "#plt.xticks(x,rotation=45,fontsize=12)\n",
    "plt.xticks(rotation=45,fontsize=12)\n",
    "plt.ylabel('Count',fontsize=12)\n",
    "plt.title('Plot Histogram of S-L house',fontsize=14)\n",
    "plt.show()"
   ]
  },
  {
   "cell_type": "code",
   "execution_count": 133,
   "metadata": {},
   "outputs": [
    {
     "name": "stderr",
     "output_type": "stream",
     "text": [
      "C:\\Users\\apple\\anaconda3\\lib\\site-packages\\seaborn\\distributions.py:2551: FutureWarning: `distplot` is a deprecated function and will be removed in a future version. Please adapt your code to use either `displot` (a figure-level function with similar flexibility) or `histplot` (an axes-level function for histograms).\n",
      "  warnings.warn(msg, FutureWarning)\n",
      "C:\\Users\\apple\\anaconda3\\lib\\site-packages\\seaborn\\distributions.py:2551: FutureWarning: `distplot` is a deprecated function and will be removed in a future version. Please adapt your code to use either `displot` (a figure-level function with similar flexibility) or `histplot` (an axes-level function for histograms).\n",
      "  warnings.warn(msg, FutureWarning)\n"
     ]
    },
    {
     "data": {
      "image/png": "[encoded data removed]",
      "text/plain": [
       "<Figure size 432x288 with 1 Axes>"
      ]
     },
     "metadata": {
      "needs_background": "light"
     },
     "output_type": "display_data"
    }
   ],
   "source": [
    "sns.distplot(SH.MEDV, bins, label='Small',kde=True)\n",
    "sns.distplot(LH.MEDV, bins,  label='Large',kde=True)\n",
    "\n",
    "plt.legend()\n",
    "plt.xlabel('MEDV')\n",
    "plt.ylabel(\"\")\n",
    "plt.title('SNS Plot Histogram of S-L house',fontsize=14)\n",
    "plt.show()"
   ]
  },
  {
   "cell_type": "markdown",
   "metadata": {
    "colab_type": "text",
    "id": "ms7hKNqwVbQ7"
   },
   "source": [
    "##### 7. Calculate Variance"
   ]
  },
  {
   "cell_type": "markdown",
   "metadata": {
    "colab_type": "text",
    "id": "j_qyruX-VbQ8"
   },
   "source": [
    "Calculate variance for both samples."
   ]
  },
  {
   "cell_type": "code",
   "execution_count": 134,
   "metadata": {},
   "outputs": [
    {
     "name": "stdout",
     "output_type": "stream",
     "text": [
      "16.5\n",
      "17.467630057803465\n"
     ]
    },
    {
     "data": {
      "text/plain": [
       "8      16.5\n",
       "12     21.7\n",
       "13     20.4\n",
       "15     19.9\n",
       "16     23.1\n",
       "       ... \n",
       "494    24.5\n",
       "495    23.1\n",
       "496    19.7\n",
       "497    18.3\n",
       "499    17.5\n",
       "Name: MEDV, Length: 173, dtype: float64"
      ]
     },
     "execution_count": 134,
     "metadata": {},
     "output_type": "execute_result"
    }
   ],
   "source": [
    "print(SH.MEDV.iloc[0])\n",
    "print(SH.MEDV.mean())\n",
    "len(SH.MEDV)\n",
    "SH.MEDV"
   ]
  },
  {
   "cell_type": "code",
   "execution_count": 145,
   "metadata": {},
   "outputs": [
    {
     "data": {
      "text/plain": [
       "(173,)"
      ]
     },
     "execution_count": 145,
     "metadata": {},
     "output_type": "execute_result"
    }
   ],
   "source": [
    "a = SH.MEDV\n",
    "b = LH.MEDV\n",
    "b.shape\n",
    "a.shape\n"
   ]
  },
  {
   "cell_type": "code",
   "execution_count": 136,
   "metadata": {
    "colab": {},
    "colab_type": "code",
    "id": "u8io49nQVbQ9"
   },
   "outputs": [
    {
     "data": {
      "text/plain": [
       "35.23132212903873"
      ]
     },
     "execution_count": 136,
     "metadata": {},
     "output_type": "execute_result"
    }
   ],
   "source": [
    "# ANSWER\n",
    "Sum=0\n",
    "for i in range(len(SH.MEDV)):\n",
    "  \n",
    "    Dif =(SH.MEDV.iloc[i]-SH.MEDV.mean())**2\n",
    "    Sum= Sum+Dif\n",
    "    \n",
    "Variance = Sum/(len(SH.MEDV))\n",
    "Variance"
   ]
  },
  {
   "cell_type": "code",
   "execution_count": 137,
   "metadata": {},
   "outputs": [
    {
     "data": {
      "text/plain": [
       "8      16.5\n",
       "12     21.7\n",
       "13     20.4\n",
       "15     19.9\n",
       "16     23.1\n",
       "       ... \n",
       "494    24.5\n",
       "495    23.1\n",
       "496    19.7\n",
       "497    18.3\n",
       "499    17.5\n",
       "Name: MEDV, Length: 173, dtype: float64"
      ]
     },
     "execution_count": 137,
     "metadata": {},
     "output_type": "execute_result"
    }
   ],
   "source": [
    "SH.MEDV"
   ]
  },
  {
   "cell_type": "code",
   "execution_count": 138,
   "metadata": {},
   "outputs": [
    {
     "name": "stdout",
     "output_type": "stream",
     "text": [
      "0.3398055634888663\n",
      "0.3764102552037489\n"
     ]
    }
   ],
   "source": [
    "from scipy.stats import variation\n",
    "V1=variation(SH.MEDV)\n",
    "V2=variation(LH.MEDV)\n",
    "print(V1)\n",
    "print(V2)"
   ]
  },
  {
   "cell_type": "markdown",
   "metadata": {
    "colab_type": "text",
    "id": "be5deiNaVbQ_"
   },
   "source": [
    "##### 8. Calculate Standard Deviation"
   ]
  },
  {
   "cell_type": "markdown",
   "metadata": {
    "colab_type": "text",
    "id": "mZTeLmbLVbQ_"
   },
   "source": [
    "\n",
    "Because we are dealing with two samples we need to compute the joint standard deviation. \n",
    "\n",
    "Here sp is the pooled standard deviation for n = n1 = n2 and s^2\n",
    "X1 and s^2 X2 are the unbiased estimators of the variances of the two samples."
   ]
  },
  {
   "cell_type": "markdown",
   "metadata": {
    "colab_type": "text",
    "id": "6-vBbtOBVbRA"
   },
   "source": [
    "![](https://wikimedia.org/api/rest_v1/media/math/render/svg/f63e99c30c01445668ea2cce9832da0f6810cb4b)"
   ]
  },
  {
   "cell_type": "code",
   "execution_count": 139,
   "metadata": {
    "colab": {},
    "colab_type": "code",
    "id": "Fj_T37yqVbRB"
   },
   "outputs": [
    {
     "name": "stdout",
     "output_type": "stream",
     "text": [
      "7.919180271317008\n"
     ]
    }
   ],
   "source": [
    "# ANSWER\n",
    "Sp=np.sqrt((a.var()+b.var())/2)\n",
    "print(Sp)"
   ]
  },
  {
   "cell_type": "markdown",
   "metadata": {
    "colab_type": "text",
    "id": "-i2iWoxDVbRD"
   },
   "source": [
    "##### 9. Calculate test statistic"
   ]
  },
  {
   "cell_type": "markdown",
   "metadata": {
    "colab_type": "text",
    "id": "UZXbRIJnVbRE"
   },
   "source": [
    "The *t*-statistic depends on the difference between the sample means and their joint standard deviation:\n",
    "\n",
    "![](https://wikimedia.org/api/rest_v1/media/math/render/svg/070d365e1b347ea5f83f0147043868fa120b6646)\n"
   ]
  },
  {
   "cell_type": "code",
   "execution_count": 140,
   "metadata": {
    "colab": {},
    "colab_type": "code",
    "id": "tIlDIlpJVbRF"
   },
   "outputs": [
    {
     "name": "stdout",
     "output_type": "stream",
     "text": [
      "-9.039172429895826\n"
     ]
    }
   ],
   "source": [
    "# ANSWER\n",
    "t=(SH.MEDV.mean()-LH.MEDV.mean())/(Sp*np.sqrt(2/(len(SH.MEDV))))\n",
    "print(t)"
   ]
  },
  {
   "cell_type": "markdown",
   "metadata": {
    "colab_type": "text",
    "id": "kwbh94u3VbRI"
   },
   "source": [
    "##### 10. Calculate Degree of Freedom\n",
    "\n",
    "The number of degrees of freedom is the total number of samples (here, this is N from each set) minus the number of statistics in the computation (1 for each sample mean):"
   ]
  },
  {
   "cell_type": "code",
   "execution_count": 141,
   "metadata": {
    "colab": {},
    "colab_type": "code",
    "id": "jAD7bJgDVbRJ"
   },
   "outputs": [
    {
     "data": {
      "text/plain": [
       "504"
      ]
     },
     "execution_count": 141,
     "metadata": {},
     "output_type": "execute_result"
    }
   ],
   "source": [
    "# ANSWER\n",
    "df=len(SH.MEDV)-1+len(LH.MEDV)-1\n",
    "df"
   ]
  },
  {
   "cell_type": "markdown",
   "metadata": {
    "colab_type": "text",
    "id": "11iYZzMwVbRO"
   },
   "source": [
    "##### 11. Find the p-value"
   ]
  },
  {
   "cell_type": "markdown",
   "metadata": {
    "colab_type": "text",
    "id": "s0_VbRKjVbRP"
   },
   "source": [
    "Now we can compute the probability of the above *t*-statistic from the cumulative density function:\n",
    "\n",
    "> stats.t.cdf\n",
    "\n",
    "> p_value = 1 - cdf(t) "
   ]
  },
  {
   "cell_type": "code",
   "execution_count": 107,
   "metadata": {
    "colab": {},
    "colab_type": "code",
    "id": "ufIYKyPtVbRR"
   },
   "outputs": [
    {
     "data": {
      "text/plain": [
       "0.0"
      ]
     },
     "execution_count": 107,
     "metadata": {},
     "output_type": "execute_result"
    }
   ],
   "source": [
    "# ANSWER\n",
    "#https://docs.scipy.org/doc/scipy/reference/generated/scipy.stats.ttest_ind.html\n",
    "#stats.t.cdf(t,df)\n",
    "p=1-stats.t.cdf(abs(t),df=df)\n",
    "p"
   ]
  },
  {
   "cell_type": "markdown",
   "metadata": {
    "colab_type": "text",
    "id": "8hLb8Ld3VbRU"
   },
   "source": [
    "#### Interpret results"
   ]
  },
  {
   "cell_type": "markdown",
   "metadata": {
    "colab_type": "text",
    "id": "JVfad_eSVbRV"
   },
   "source": [
    "##### 12. Write a Function to Test Significance of `p_value`\n",
    "\n",
    "Write a funtion which will take p_value and alpha as input. If p_value < alpha, print reject null hypothesis message. Otherwise print a fail to reject null hypothesis message. "
   ]
  },
  {
   "cell_type": "code",
   "execution_count": 0,
   "metadata": {
    "colab": {},
    "colab_type": "code",
    "id": "j0kBcmDKVbRV"
   },
   "outputs": [],
   "source": [
    "# ANSWER\n",
    "hypothesis ={\"H0\":\"House price doesn't increase for larger houses\",\n",
    "            \"H1\":\"House price does increase for larger houses\"}"
   ]
  },
  {
   "cell_type": "code",
   "execution_count": 78,
   "metadata": {
    "colab": {},
    "colab_type": "code",
    "id": "Ou6bXSa4VbRX"
   },
   "outputs": [],
   "source": [
    "# ANSWER \n",
    "def check_sig(p_value,alpha):\n",
    "    str_result =\"\"\n",
    "    if p_value <alpha:\n",
    "        str_result = \"we reject the null hypothesis.\"\n",
    "        \n",
    "    elif p_value>alpha:\n",
    "        str_result = \"we fail to reject the null hypothesis.\"\n",
    "    else:\n",
    "        str_result = \"Our test is inconclusive.\"\n",
    "    return str_result"
   ]
  },
  {
   "cell_type": "markdown",
   "metadata": {
    "colab_type": "text",
    "id": "nrs0gOXeVbRl"
   },
   "source": [
    "##### 13. [Bonus] Write a function to calculate t, p_value from two samples.\n",
    "\n",
    "Calculate the T-test for the means of *two independent* samples of scores.\n",
    "\n",
    "This is a two-sided test for the null hypothesis that 2 independent samples\n",
    "have identical average (expected) values."
   ]
  },
  {
   "cell_type": "code",
   "execution_count": 104,
   "metadata": {
    "colab": {},
    "colab_type": "code",
    "id": "fR1t5P69VbRZ"
   },
   "outputs": [],
   "source": [
    "# ANSWER\n",
    "def ttest_ind(a,b, alpha=0.05):\n",
    "    N=len(a)\n",
    "    #calculate variance\n",
    "    var_a = a.var()\n",
    "    var_b = b.var()\n",
    "    #calculate standard deviation\n",
    "    std =np.sqrt((var_a+var_b)/2)\n",
    "    #calcuate t-stat\n",
    "    t=(a.mean()-b.mean())/(std*np.sqrt(2/N))\n",
    "    #calculate degree of freedom\n",
    "    df = 2*N -2\n",
    "    #calculate p-value\n",
    "    p=1-stats.t.cdf(abs(t),df=df)\n",
    "    #two-tail\n",
    "    p=p*2\n",
    "    return t, p, check_sig(p,alpha)\n",
    "    "
   ]
  },
  {
   "cell_type": "code",
   "execution_count": 105,
   "metadata": {
    "colab": {},
    "colab_type": "code",
    "id": "Mnan5sf_VbRm"
   },
   "outputs": [
    {
     "data": {
      "text/plain": [
       "(-9.039172429895826, 0.0, 'we reject the null hypothesis.')"
      ]
     },
     "execution_count": 105,
     "metadata": {},
     "output_type": "execute_result"
    }
   ],
   "source": [
    "# ANSWER\n",
    "ttest_ind(a,b, alpha=0.05)"
   ]
  },
  {
   "cell_type": "markdown",
   "metadata": {
    "colab_type": "text",
    "id": "tyNc67_FVbRn"
   },
   "source": [
    "#### Use `Stats` Package"
   ]
  },
  {
   "cell_type": "markdown",
   "metadata": {
    "colab_type": "text",
    "id": "wqAeZgizVbRo"
   },
   "source": [
    "##### 14. Calculate the T-test for the means of *two independent* samples of scores\n",
    "\n",
    "using following method of stats calculate the T-test for the means of two independent samples of scores.\n",
    "\n",
    "> ttest_ind"
   ]
  },
  {
   "cell_type": "code",
   "execution_count": 113,
   "metadata": {
    "colab": {},
    "colab_type": "code",
    "id": "HJgti3wYVbRp"
   },
   "outputs": [
    {
     "data": {
      "text/plain": [
       "1.3808037019840947e-20"
      ]
     },
     "execution_count": 113,
     "metadata": {},
     "output_type": "execute_result"
    }
   ],
   "source": [
    "# ANSWER\n",
    "#t2,p_value = stats.ttest_ind(SH.MEDV, LH.MEDV, equal_var = False)\n",
    "#print_sig(p_value, alpha)\n",
    "t2,p_value = stats.ttest_ind(SH.MEDV, LH.MEDV)\n",
    "#t2\n",
    "p_value\n",
    "\n"
   ]
  },
  {
   "cell_type": "code",
   "execution_count": 75,
   "metadata": {},
   "outputs": [
    {
     "data": {
      "text/plain": [
       "Ttest_indResult(statistic=-9.720848939069086, pvalue=1.3808037019840947e-20)"
      ]
     },
     "execution_count": 75,
     "metadata": {},
     "output_type": "execute_result"
    }
   ],
   "source": [
    "stats.ttest_ind(SH.MEDV, LH.MEDV)"
   ]
  },
  {
   "cell_type": "code",
   "execution_count": 76,
   "metadata": {},
   "outputs": [
    {
     "data": {
      "text/plain": [
       "KstestResult(statistic=0.4846985714037737, pvalue=3.4857114592621345e-25)"
      ]
     },
     "execution_count": 76,
     "metadata": {},
     "output_type": "execute_result"
    }
   ],
   "source": [
    "stats.ks_2samp(SH.MEDV,LH.MEDV)"
   ]
  },
  {
   "cell_type": "markdown",
   "metadata": {
    "colab_type": "text",
    "id": "ttzF17-GVbRq"
   },
   "source": [
    "\n",
    "\n",
    "---\n",
    "\n",
    "\n",
    "\n",
    "---\n",
    "\n",
    "\n",
    "\n",
    "> > > > > > > > > © 2019 Institute of Data\n",
    "\n",
    "\n",
    "---\n",
    "\n",
    "\n",
    "\n",
    "---\n",
    "\n",
    "\n",
    "\n"
   ]
  }
 ],
 "metadata": {
  "colab": {
   "collapsed_sections": [],
   "name": "DSIA Lab 3.2.2.ipynb",
   "provenance": []
  },
  "kernelspec": {
   "display_name": "Python 3",
   "language": "python",
   "name": "python3"
  },
  "language_info": {
   "codemirror_mode": {
    "name": "ipython",
    "version": 3
   },
   "file_extension": ".py",
   "mimetype": "text/x-python",
   "name": "python",
   "nbconvert_exporter": "python",
   "pygments_lexer": "ipython3",
   "version": "3.8.5"
  }
 },
 "nbformat": 4,
 "nbformat_minor": 1
}
